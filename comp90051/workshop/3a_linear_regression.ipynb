{
 "cells": [
  {
   "cell_type": "markdown",
   "metadata": {},
   "source": [
    "# Worksheet 3a: Linear Regression"
   ]
  },
  {
   "cell_type": "markdown",
   "metadata": {},
   "source": [
    "The aim of this workshop is to get you coding linear regression models in python. For regression, we will do it in two ways, once using iterative updates (coordinate descent) and then using linear algebra. Finally we will evaluate the quality of the fit.\n",
    "\n",
    "Firstly we will import the relevant libraries (*numpy, matplotlib*, etc), ensuring our plots appear *inline* rather than in separate windows."
   ]
  },
  {
   "cell_type": "code",
   "execution_count": 1,
   "metadata": {},
   "outputs": [
    {
     "name": "stdout",
     "output_type": "stream",
     "text": [
      "Populating the interactive namespace from numpy and matplotlib\n"
     ]
    }
   ],
   "source": [
    "%pylab inline\n",
    "import numpy as np\n",
    "import matplotlib.pyplot as plt\n",
    "import sys "
   ]
  },
  {
   "cell_type": "markdown",
   "metadata": {},
   "source": [
    "To check what a command does simply type:"
   ]
  },
  {
   "cell_type": "code",
   "execution_count": 2,
   "metadata": {
    "collapsed": true
   },
   "outputs": [],
   "source": [
    "np.random.randn?"
   ]
  },
  {
   "cell_type": "markdown",
   "metadata": {},
   "source": [
    "## Linear Regression"
   ]
  },
  {
   "cell_type": "markdown",
   "metadata": {},
   "source": [
    "For this part we are going to load in some real data, we will use the example from the Olympics: the pace of Marathon winners. Load the data as follows:"
   ]
  },
  {
   "cell_type": "code",
   "execution_count": 3,
   "metadata": {},
   "outputs": [
    {
     "name": "stdout",
     "output_type": "stream",
     "text": [
      "[[ 1896.             4.47083333]\n",
      " [ 1900.             4.46472926]\n",
      " [ 1904.             5.22208333]\n",
      " [ 1908.             4.15467867]\n",
      " [ 1912.             3.90331675]\n",
      " [ 1920.             3.56951267]\n",
      " [ 1924.             3.82454477]\n",
      " [ 1928.             3.62483707]\n",
      " [ 1932.             3.59284275]\n",
      " [ 1936.             3.53880792]\n",
      " [ 1948.             3.67010309]\n",
      " [ 1952.             3.39029111]\n",
      " [ 1956.             3.43642612]\n",
      " [ 1960.             3.20583007]\n",
      " [ 1964.             3.13275665]\n",
      " [ 1968.             3.32819844]\n",
      " [ 1972.             3.13583758]\n",
      " [ 1976.             3.0789588 ]\n",
      " [ 1980.             3.10581822]\n",
      " [ 1984.             3.06552909]\n",
      " [ 1988.             3.09357349]\n",
      " [ 1992.             3.16111704]\n",
      " [ 1996.             3.14255244]\n",
      " [ 2000.             3.08527867]\n",
      " [ 2004.             3.10265829]\n",
      " [ 2008.             2.99877553]\n",
      " [ 2012.             3.03392977]]\n"
     ]
    }
   ],
   "source": [
    "csv = \"\"\"1896,4.47083333333333\n",
    "1900,4.46472925981123\n",
    "1904,5.22208333333333\n",
    "1908,4.1546786744085\n",
    "1912,3.90331674958541\n",
    "1920,3.5695126705653\n",
    "1924,3.8245447722874\n",
    "1928,3.62483706600308\n",
    "1932,3.59284275388079\n",
    "1936,3.53880791562981\n",
    "1948,3.6701030927835\n",
    "1952,3.39029110874116\n",
    "1956,3.43642611683849\n",
    "1960,3.2058300746534\n",
    "1964,3.13275664573212\n",
    "1968,3.32819844373346\n",
    "1972,3.13583757949204\n",
    "1976,3.07895880238575\n",
    "1980,3.10581822490816\n",
    "1984,3.06552909112454\n",
    "1988,3.09357348817\n",
    "1992,3.16111703598373\n",
    "1996,3.14255243512264\n",
    "2000,3.08527866650867\n",
    "2004,3.1026582928467\n",
    "2008,2.99877552632618\n",
    "2012,3.03392977050993\"\"\"\n",
    "\n",
    "\n",
    "if sys.version_info[0] >= 3:\n",
    "    import io # Python3\n",
    "    olympics = np.genfromtxt(io.BytesIO(csv.encode()), delimiter=\",\")\n",
    "else:\n",
    "    from StringIO import StringIO  # Python2\n",
    "    olympics = np.genfromtxt(StringIO(csv), delimiter=',') #Python 2\n",
    "    \n",
    "print(olympics)    "
   ]
  },
  {
   "cell_type": "markdown",
   "metadata": {},
   "source": [
    "This loads the data into a numpy array. You can extract the years and pace of the winners, respectively into column vectors as follows:"
   ]
  },
  {
   "cell_type": "code",
   "execution_count": 4,
   "metadata": {
    "collapsed": true
   },
   "outputs": [],
   "source": [
    "x = olympics[:, 0:1]\n",
    "y = olympics[:, 1:2]"
   ]
  },
  {
   "cell_type": "markdown",
   "metadata": {},
   "source": [
    "### Plotting the Data"
   ]
  },
  {
   "cell_type": "markdown",
   "metadata": {},
   "source": [
    "And you can make a plot of $y$ vs $x$ with the following command:"
   ]
  },
  {
   "cell_type": "code",
   "execution_count": 5,
   "metadata": {},
   "outputs": [
    {
     "data": {
      "text/plain": [
       "[<matplotlib.lines.Line2D at 0x117af5da0>]"
      ]
     },
     "execution_count": 5,
     "metadata": {},
     "output_type": "execute_result"
    },
    {
     "data": {
      "image/png": "[encoded data removed]",
      "text/plain": [
       "<matplotlib.figure.Figure at 0x10f629278>"
      ]
     },
     "metadata": {},
     "output_type": "display_data"
    }
   ],
   "source": [
    "plt.plot(x, y, 'rx')"
   ]
  },
  {
   "cell_type": "markdown",
   "metadata": {},
   "source": [
    "### Minimising Sum of Squared Residuals: Iterative Solution"
   ]
  },
  {
   "cell_type": "markdown",
   "metadata": {},
   "source": [
    "Now we are going to fit a line, $y_i=a + bx_i$, to the data you've plotted. We are trying to minimize the sum of squared residuals:"
   ]
  },
  {
   "cell_type": "markdown",
   "metadata": {},
   "source": [
    "$$SSR(a, b) = \\sum_{i=1}^N(y_i-a-bx_i)^2$$"
   ]
  },
  {
   "cell_type": "markdown",
   "metadata": {},
   "source": [
    "with respect to $a$ and $b$. We can start with an initial guess for $b$, "
   ]
  },
  {
   "cell_type": "code",
   "execution_count": 6,
   "metadata": {
    "collapsed": true
   },
   "outputs": [],
   "source": [
    "b = -0.4"
   ]
  },
  {
   "cell_type": "markdown",
   "metadata": {},
   "source": [
    "Then we use the maximum likelihood update to find an estimate for the offset, $a$,"
   ]
  },
  {
   "cell_type": "markdown",
   "metadata": {},
   "source": [
    "$$a = \\frac{\\sum_{i=1}^N(y_i-b x_i)}{N}$$"
   ]
  },
  {
   "cell_type": "code",
   "execution_count": 7,
   "metadata": {},
   "outputs": [
    {
     "name": "stdout",
     "output_type": "stream",
     "text": [
      "786.019771145\n"
     ]
    }
   ],
   "source": [
    "a = (y - b * x).mean()\n",
    "print(a)"
   ]
  },
  {
   "cell_type": "markdown",
   "metadata": {},
   "source": [
    "And now we can make an updated estimate for parameter *b*, using this estimate of *a*,"
   ]
  },
  {
   "cell_type": "markdown",
   "metadata": {},
   "source": [
    "$$b = \\frac{\\sum_{i=1}^N (y_i - a) \\times x_i}{\\sum_{i=1}^N x_i^2}$$"
   ]
  },
  {
   "cell_type": "code",
   "execution_count": 8,
   "metadata": {},
   "outputs": [
    {
     "name": "stdout",
     "output_type": "stream",
     "text": [
      "-0.3998724073\n"
     ]
    }
   ],
   "source": [
    "b = np.sum((y - a)*x) / np.sum(x**2)\n",
    "print(b)"
   ]
  },
  {
   "cell_type": "markdown",
   "metadata": {},
   "source": [
    "We can have a look at how good our fit is by computing the prediction across the input space. First create a vector of 'test points',"
   ]
  },
  {
   "cell_type": "code",
   "execution_count": 9,
   "metadata": {
    "collapsed": true
   },
   "outputs": [],
   "source": [
    "x_test = np.linspace(1890, 2020, 130)[:, None]"
   ]
  },
  {
   "cell_type": "markdown",
   "metadata": {},
   "source": [
    "Now use this vector to compute some test predictions,"
   ]
  },
  {
   "cell_type": "code",
   "execution_count": 10,
   "metadata": {},
   "outputs": [],
   "source": [
    "f_test = b * x_test + a"
   ]
  },
  {
   "cell_type": "markdown",
   "metadata": {},
   "source": [
    "Now plot those test predictions with a blue line on the same plot as the data,"
   ]
  },
  {
   "cell_type": "code",
   "execution_count": 11,
   "metadata": {},
   "outputs": [
    {
     "data": {
      "text/plain": [
       "[<matplotlib.lines.Line2D at 0x10f629550>]"
      ]
     },
     "execution_count": 11,
     "metadata": {},
     "output_type": "execute_result"
    },
    {
     "data": {
      "image/png": "[encoded data removed]",
      "text/plain": [
       "<matplotlib.figure.Figure at 0x10f6295f8>"
      ]
     },
     "metadata": {},
     "output_type": "display_data"
    }
   ],
   "source": [
    "plt.plot(x_test, f_test, 'b-')\n",
    "plt.plot(x, y, 'rx')"
   ]
  },
  {
   "cell_type": "markdown",
   "metadata": {},
   "source": [
    "Next compute the quality of the fit by evaluating the average sum of squares error of the prediction over the training samples, $SSR(a,b)$"
   ]
  },
  {
   "cell_type": "code",
   "execution_count": 12,
   "metadata": {},
   "outputs": [
    {
     "name": "stdout",
     "output_type": "stream",
     "text": [
      "189.058524559\n"
     ]
    }
   ],
   "source": [
    "SSR =  ((y - a - b*x)**2).mean()\n",
    "print(SSR)"
   ]
  },
  {
   "cell_type": "markdown",
   "metadata": {},
   "source": [
    "The fit isn't very good, we need to iterate between these parameter updates in a loop to improve the fit, we have to do this several times,"
   ]
  },
  {
   "cell_type": "code",
   "execution_count": 13,
   "metadata": {},
   "outputs": [
    {
     "name": "stdout",
     "output_type": "stream",
     "text": [
      "Iteration#  0 , training error SSR 188.996219843\n",
      "Iteration#  500 , training error SSR 135.930508608\n",
      "Iteration#  1000 , training error SSR 97.7701894719\n",
      "Iteration#  1500 , training error SSR 70.3285530052\n",
      "Iteration#  2000 , training error SSR 50.5948760072\n",
      "Iteration#  2500 , training error SSR 36.4041039542\n",
      "Iteration#  3000 , training error SSR 26.1993148781\n",
      "Iteration#  3500 , training error SSR 18.8609037121\n",
      "Iteration#  4000 , training error SSR 13.5837462873\n",
      "Iteration#  4500 , training error SSR 9.78886618913\n",
      "Iteration#  5000 , training error SSR 7.05991311835\n",
      "Iteration#  5500 , training error SSR 5.09748356329\n",
      "Iteration#  6000 , training error SSR 3.6862721358\n",
      "Iteration#  6500 , training error SSR 2.67144962258\n",
      "Iteration#  7000 , training error SSR 1.94167610086\n",
      "Iteration#  7500 , training error SSR 1.41688542458\n",
      "Iteration#  8000 , training error SSR 1.03950087211\n",
      "Iteration#  8500 , training error SSR 0.768118191579\n",
      "Iteration#  9000 , training error SSR 0.572962987662\n",
      "Iteration#  9500 , training error SSR 0.432624062786\n"
     ]
    },
    {
     "data": {
      "text/plain": [
       "(56.894560377698411, -0.027293057729518334)"
      ]
     },
     "execution_count": 13,
     "metadata": {},
     "output_type": "execute_result"
    }
   ],
   "source": [
    "for i in np.arange(10000):\n",
    "    b = np.sum((y - a)*x) / np.sum(x**2)\n",
    "    a = (y - b * x).mean()\n",
    "    SSR = ((y - a - b*x)**2).mean()\n",
    "    if i % 500 == 0: \n",
    "        print('Iteration# ' ,i ,', training error SSR',SSR) \n",
    "(a, b)"
   ]
  },
  {
   "cell_type": "markdown",
   "metadata": {},
   "source": [
    "And let's try plotting the result again"
   ]
  },
  {
   "cell_type": "code",
   "execution_count": 14,
   "metadata": {},
   "outputs": [
    {
     "data": {
      "text/plain": [
       "[<matplotlib.lines.Line2D at 0x117bef828>]"
      ]
     },
     "execution_count": 14,
     "metadata": {},
     "output_type": "execute_result"
    },
    {
     "data": {
      "image/png": "[encoded data removed]",
      "text/plain": [
       "<matplotlib.figure.Figure at 0x117bef470>"
      ]
     },
     "metadata": {},
     "output_type": "display_data"
    }
   ],
   "source": [
    "f_test = a + b*x_test \n",
    "plt.plot(x_test, f_test, 'b-')\n",
    "plt.plot(x, y, 'rx')"
   ]
  },
  {
   "cell_type": "markdown",
   "metadata": {},
   "source": [
    "Does more than 10 iterations considerably improve fit in this case?"
   ]
  },
  {
   "cell_type": "markdown",
   "metadata": {},
   "source": [
    "### Direct Solution with Linear Algebra"
   ]
  },
  {
   "cell_type": "markdown",
   "metadata": {},
   "source": [
    "Hopefully, you are now persuaded of the merits of solving the entire system, simultaneously, using linear algebra. To do that, we need to make a *design matrix* of the data, which includes the $x_0=1$ column, to represent the bias. Remember that we are now moving to a system where our prediction is given by an inner product:"
   ]
  },
  {
   "cell_type": "markdown",
   "metadata": {},
   "source": [
    "$$y_i \\approx \\mathbf{x}_i'\\mathbf{w}$$"
   ]
  },
  {
   "cell_type": "markdown",
   "metadata": {},
   "source": [
    "where each vector $\\mathbf{x}_i$ is given by appending a 1 onto the original vector"
   ]
  },
  {
   "cell_type": "markdown",
   "metadata": {},
   "source": [
    "$$\\mathbf{x}'_i = \n",
    "\\begin{bmatrix} \n",
    "1 &\n",
    "x_i\n",
    "\\end{bmatrix}$$"
   ]
  },
  {
   "cell_type": "markdown",
   "metadata": {},
   "source": [
    "We can do this for the entire data set to form a design matrix $\\mathbf{X}$. Remember that the design matrix has data points in the *rows* and data features in the *columns*:"
   ]
  },
  {
   "cell_type": "code",
   "execution_count": 15,
   "metadata": {},
   "outputs": [
    {
     "name": "stdout",
     "output_type": "stream",
     "text": [
      "[[  1.00000000e+00   1.89600000e+03]\n",
      " [  1.00000000e+00   1.90000000e+03]\n",
      " [  1.00000000e+00   1.90400000e+03]\n",
      " [  1.00000000e+00   1.90800000e+03]\n",
      " [  1.00000000e+00   1.91200000e+03]\n",
      " [  1.00000000e+00   1.92000000e+03]\n",
      " [  1.00000000e+00   1.92400000e+03]\n",
      " [  1.00000000e+00   1.92800000e+03]\n",
      " [  1.00000000e+00   1.93200000e+03]\n",
      " [  1.00000000e+00   1.93600000e+03]\n",
      " [  1.00000000e+00   1.94800000e+03]\n",
      " [  1.00000000e+00   1.95200000e+03]\n",
      " [  1.00000000e+00   1.95600000e+03]\n",
      " [  1.00000000e+00   1.96000000e+03]\n",
      " [  1.00000000e+00   1.96400000e+03]\n",
      " [  1.00000000e+00   1.96800000e+03]\n",
      " [  1.00000000e+00   1.97200000e+03]\n",
      " [  1.00000000e+00   1.97600000e+03]\n",
      " [  1.00000000e+00   1.98000000e+03]\n",
      " [  1.00000000e+00   1.98400000e+03]\n",
      " [  1.00000000e+00   1.98800000e+03]\n",
      " [  1.00000000e+00   1.99200000e+03]\n",
      " [  1.00000000e+00   1.99600000e+03]\n",
      " [  1.00000000e+00   2.00000000e+03]\n",
      " [  1.00000000e+00   2.00400000e+03]\n",
      " [  1.00000000e+00   2.00800000e+03]\n",
      " [  1.00000000e+00   2.01200000e+03]]\n"
     ]
    }
   ],
   "source": [
    "X = np.hstack((np.ones_like(x), x))\n",
    "print(X)"
   ]
  },
  {
   "cell_type": "markdown",
   "metadata": {},
   "source": [
    "From the multivariate regression solution, the maximum likelihood (equivalent to the mininum residual sum of squares, SSR) solution for $\\mathbf{w}^*$ is given by"
   ]
  },
  {
   "cell_type": "markdown",
   "metadata": {},
   "source": [
    "$$\\mathbf{w}^* = \\left[\\mathbf{X}^\\top \\mathbf{X}\\right]^{-1} \\mathbf{X}^\\top \\mathbf{y}$$ "
   ]
  },
  {
   "cell_type": "markdown",
   "metadata": {},
   "source": [
    "### Solving the System"
   ]
  },
  {
   "cell_type": "markdown",
   "metadata": {},
   "source": [
    "The solution for $\\mathbf{w}$ is given in terms of a matrix inverse, but numerically this isn't the best way to compute it. What we actually want python to do is to *solve* the system of linear equations given by"
   ]
  },
  {
   "cell_type": "markdown",
   "metadata": {},
   "source": [
    "$$\\mathbf{X}^\\top\\mathbf{X} \\mathbf{w} = \\mathbf{X}^\\top\\mathbf{y}$$"
   ]
  },
  {
   "cell_type": "markdown",
   "metadata": {},
   "source": [
    "for $\\mathbf{w}$. This can be done in numpy using the command"
   ]
  },
  {
   "cell_type": "code",
   "execution_count": 16,
   "metadata": {
    "collapsed": true
   },
   "outputs": [],
   "source": [
    "np.linalg.solve?"
   ]
  },
  {
   "cell_type": "markdown",
   "metadata": {},
   "source": [
    "so we can obtain the solution using"
   ]
  },
  {
   "cell_type": "code",
   "execution_count": 18,
   "metadata": {},
   "outputs": [
    {
     "name": "stdout",
     "output_type": "stream",
     "text": [
      "[[  2.88952457e+01]\n",
      " [ -1.29806477e-02]]\n"
     ]
    }
   ],
   "source": [
    "w = np.linalg.solve(np.dot(X.T, X), np.dot(X.T, y))\n",
    "print(w)"
   ]
  },
  {
   "cell_type": "markdown",
   "metadata": {},
   "source": [
    "Allowing us to plot the fit as follows"
   ]
  },
  {
   "cell_type": "code",
   "execution_count": 22,
   "metadata": {},
   "outputs": [
    {
     "data": {
      "text/plain": [
       "[<matplotlib.lines.Line2D at 0x117cedc50>]"
      ]
     },
     "execution_count": 22,
     "metadata": {},
     "output_type": "execute_result"
    },
    {
     "data": {
      "image/png": "[encoded data removed]",
      "text/plain": [
       "<matplotlib.figure.Figure at 0x117cede80>"
      ]
     },
     "metadata": {},
     "output_type": "display_data"
    }
   ],
   "source": [
    "a, b = w\n",
    "f_test = a + b*x_test\n",
    "plt.plot(x_test, f_test, 'b-')\n",
    "plt.plot(x, y, 'rx')"
   ]
  },
  {
   "cell_type": "markdown",
   "metadata": {},
   "source": [
    "You should also verify that the sum of squared residuals of the learned weights, $SSR(w_0, w_1)$, match or beats your earlier iterative result"
   ]
  },
  {
   "cell_type": "code",
   "execution_count": 24,
   "metadata": {},
   "outputs": [
    {
     "data": {
      "text/plain": [
       "0.073332732182339308"
      ]
     },
     "execution_count": 24,
     "metadata": {},
     "output_type": "execute_result"
    }
   ],
   "source": [
    "SSR = ((y - a - b*x)**2).mean()\n",
    "SSR"
   ]
  },
  {
   "cell_type": "markdown",
   "metadata": {
    "collapsed": true
   },
   "source": [
    "The error we computed above is the training error. It doesn't assess the model's generalization ability, it only assesses how well it's performing on the given training data. In the next worksheet we will assess model's generalization ability using hold out validation."
   ]
  }
 ],
 "metadata": {
  "kernelspec": {
   "display_name": "Python 3",
   "language": "python",
   "name": "python3"
  },
  "language_info": {
   "codemirror_mode": {
    "name": "ipython",
    "version": 3
   },
   "file_extension": ".py",
   "mimetype": "text/x-python",
   "name": "python",
   "nbconvert_exporter": "python",
   "pygments_lexer": "ipython3",
   "version": "3.6.3"
  }
 },
 "nbformat": 4,
 "nbformat_minor": 1
}
