{
 "cells": [
  {
   "cell_type": "markdown",
   "metadata": {},
   "source": [
    "有两个字符串str1和str2，它们源自于同一个字符串但由不同的技术处理得到。str1由词性标注技术（POS Tagging）而来，str2由单词分割技术（Word Segmentation）而来。求str2中的每个单词/子单词对应的词性标注序列。"
   ]
  },
  {
   "cell_type": "code",
   "execution_count": 20,
   "metadata": {},
   "outputs": [],
   "source": [
    "import sys\n",
    "# 把标准输出定向到文件\n",
    "sys.stdout = open(\"output.txt\", \"w\")\n",
    "\n",
    "with open('input.txt') as f:\n",
    "\n",
    "    for line in f.readlines():\n",
    "        \n",
    "        sentence_1 = \"\"\n",
    "        sentence_2 = \"\"\n",
    "        \n",
    "        str1, str2 = line.split('\\t')\n",
    "        \n",
    "        # 词性列表\n",
    "        pos = []\n",
    "        # str2的输出\n",
    "        output = []\n",
    "        # 最终结果\n",
    "        result = ''\n",
    "        \n",
    "        # 去除两个字符串头尾的空格\n",
    "        str1 = str1.strip()\n",
    "        str2 = str2.strip()\n",
    "        \n",
    "        for i in str1.split(' '):\n",
    "            word, tag = i.split('_')\n",
    "            sentence_1 += word\n",
    "            pos.append(tag)\n",
    "        \n",
    "        for i in str2.split(' '):\n",
    "            sentence_2 += i\n",
    "            output.append(i)\n",
    "            \n",
    "        \n",
    "        sentence_2 = sentence_2.replace('@@','')\n",
    "\n",
    "        # 判断str1和str2是否对应\n",
    "        if sentence_1 == sentence_2:\n",
    "            j = 0\n",
    "\n",
    "            for index, item in enumerate(pos):\n",
    "                if not '@@' in output[j]:\n",
    "                    result += pos[index] + ' '\n",
    "                    j += 1\n",
    "                else:\n",
    "                    \n",
    "                    while('@@' in output[j]):\n",
    "                        result += pos[index] + ' '\n",
    "                        j+=1\n",
    "                    \n",
    "                    result += pos[index] + ' '\n",
    "                    \n",
    "                    if j < len(output):\n",
    "                        j += 1\n",
    "                    \n",
    "            print(result)\n",
    "        else:\n",
    "            print(' ')"
   ]
  }
 ],
 "metadata": {
  "kernelspec": {
   "display_name": "Python 3",
   "language": "python",
   "name": "python3"
  },
  "language_info": {
   "codemirror_mode": {
    "name": "ipython",
    "version": 3
   },
   "file_extension": ".py",
   "mimetype": "text/x-python",
   "name": "python",
   "nbconvert_exporter": "python",
   "pygments_lexer": "ipython3",
   "version": "3.5.2"
  }
 },
 "nbformat": 4,
 "nbformat_minor": 2
}
