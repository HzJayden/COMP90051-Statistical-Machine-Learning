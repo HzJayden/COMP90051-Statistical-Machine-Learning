{
 "cells": [
  {
   "cell_type": "code",
   "execution_count": 1,
   "metadata": {},
   "outputs": [
    {
     "name": "stdout",
     "output_type": "stream",
     "text": [
      "5\n"
     ]
    }
   ],
   "source": [
    "import tensorflow as tf\n",
    "a = tf.constant(2, name = 'a')\n",
    "b = tf.constant(3, name = 'b')\n",
    "x = tf.add(a, b, name = 'add')\n",
    "with tf.Session() as sess:\n",
    "    # add this line to use TensorBoard.\n",
    "    # Create the summary writer after graph definition and before running your session\n",
    "    writer = tf.summary.FileWriter('./graphs', sess.graph)\n",
    "    # Where you want to keep your event files\n",
    "    print(sess.run(x))\n",
    "writer.close() # close the writer when you’re done using it"
   ]
  }
 ],
 "metadata": {
  "kernelspec": {
   "display_name": "Python 3",
   "language": "python",
   "name": "python3"
  },
  "language_info": {
   "codemirror_mode": {
    "name": "ipython",
    "version": 3
   },
   "file_extension": ".py",
   "mimetype": "text/x-python",
   "name": "python",
   "nbconvert_exporter": "python",
   "pygments_lexer": "ipython3",
   "version": "3.6.2"
  }
 },
 "nbformat": 4,
 "nbformat_minor": 2
}
